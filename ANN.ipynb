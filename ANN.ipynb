{
 "cells": [
  {
   "cell_type": "code",
   "execution_count": 1,
   "metadata": {},
   "outputs": [],
   "source": [
    "#Handcrafted ANN\n",
    "\n",
    "import numpy as np\n",
    "import pandas as pd\n",
    "import matplotlib.pyplot as plt\n",
    "import seaborn as sns\n",
    "sns.set()\n",
    "\n",
    "from sklearn.model_selection import train_test_split\n",
    "from sklearn.metrics import accuracy_score\n",
    "from sklearn.metrics import confusion_matrix, classification_report\n",
    "\n",
    "from sklearn import preprocessing\n",
    "\n",
    "np.random.seed(1)\n",
    "from numpy.random import RandomState\n",
    "rng = RandomState(1234567890)"
   ]
  },
  {
   "cell_type": "code",
   "execution_count": 2,
   "metadata": {
    "scrolled": true
   },
   "outputs": [],
   "source": [
    "#bank note authentication data\n",
    "df = pd.read_csv('data_banknote_authentication.csv', names=['variance','skewness','curtosis','entropy','class'])\n",
    "X = np.array( df[['variance','skewness','curtosis','entropy']] )\n",
    "Y = df['class']\n",
    "X_train, X_test, y_train, y_test = train_test_split(X, Y, test_size=0.15, random_state=42)\n",
    "\n",
    "X_train = X_train.T\n",
    "X_test = X_test.T\n"
   ]
  },
  {
   "cell_type": "code",
   "execution_count": 3,
   "metadata": {},
   "outputs": [],
   "source": [
    "#occupancy data\n",
    "\n",
    "#load training data\n",
    "df = pd.read_csv('occupancy_data/datatraining.csv')\n",
    "X_train = df.drop(columns=['Occupancy']) \n",
    "X_train = preprocessing.scale(X_train).T\n",
    "y_train = df['Occupancy']\n",
    "\n",
    "#load validation data\n",
    "df = pd.read_csv('occupancy_data/datatest.csv')\n",
    "X_valid = df.drop(columns=['Occupancy']) \n",
    "X_valid = preprocessing.scale(X_valid).T\n",
    "y_valid = df['Occupancy']\n",
    "\n",
    "\n",
    "#load test data\n",
    "df = pd.read_csv('occupancy_data/datatest2.csv')\n",
    "X_test = df.drop(columns=['Occupancy']) \n",
    "X_test = preprocessing.scale(X_test).T\n",
    "y_test = df['Occupancy']\n"
   ]
  },
  {
   "cell_type": "code",
   "execution_count": 4,
   "metadata": {},
   "outputs": [
    {
     "data": {
      "text/html": [
       "<div>\n",
       "<style scoped>\n",
       "    .dataframe tbody tr th:only-of-type {\n",
       "        vertical-align: middle;\n",
       "    }\n",
       "\n",
       "    .dataframe tbody tr th {\n",
       "        vertical-align: top;\n",
       "    }\n",
       "\n",
       "    .dataframe thead th {\n",
       "        text-align: right;\n",
       "    }\n",
       "</style>\n",
       "<table border=\"1\" class=\"dataframe\">\n",
       "  <thead>\n",
       "    <tr style=\"text-align: right;\">\n",
       "      <th></th>\n",
       "      <th>Temperature</th>\n",
       "      <th>Humidity</th>\n",
       "      <th>Light</th>\n",
       "      <th>CO2</th>\n",
       "      <th>HumidityRatio</th>\n",
       "      <th>Occupancy</th>\n",
       "    </tr>\n",
       "  </thead>\n",
       "  <tbody>\n",
       "    <tr>\n",
       "      <th>0</th>\n",
       "      <td>21.7600</td>\n",
       "      <td>31.133333</td>\n",
       "      <td>437.333333</td>\n",
       "      <td>1029.666667</td>\n",
       "      <td>0.005021</td>\n",
       "      <td>1</td>\n",
       "    </tr>\n",
       "    <tr>\n",
       "      <th>1</th>\n",
       "      <td>21.7900</td>\n",
       "      <td>31.000000</td>\n",
       "      <td>437.333333</td>\n",
       "      <td>1000.000000</td>\n",
       "      <td>0.005009</td>\n",
       "      <td>1</td>\n",
       "    </tr>\n",
       "    <tr>\n",
       "      <th>2</th>\n",
       "      <td>21.7675</td>\n",
       "      <td>31.122500</td>\n",
       "      <td>434.000000</td>\n",
       "      <td>1003.750000</td>\n",
       "      <td>0.005022</td>\n",
       "      <td>1</td>\n",
       "    </tr>\n",
       "    <tr>\n",
       "      <th>3</th>\n",
       "      <td>21.7675</td>\n",
       "      <td>31.122500</td>\n",
       "      <td>439.000000</td>\n",
       "      <td>1009.500000</td>\n",
       "      <td>0.005022</td>\n",
       "      <td>1</td>\n",
       "    </tr>\n",
       "    <tr>\n",
       "      <th>4</th>\n",
       "      <td>21.7900</td>\n",
       "      <td>31.133333</td>\n",
       "      <td>437.333333</td>\n",
       "      <td>1005.666667</td>\n",
       "      <td>0.005030</td>\n",
       "      <td>1</td>\n",
       "    </tr>\n",
       "  </tbody>\n",
       "</table>\n",
       "</div>"
      ],
      "text/plain": [
       "   Temperature   Humidity       Light          CO2  HumidityRatio  Occupancy\n",
       "0      21.7600  31.133333  437.333333  1029.666667       0.005021          1\n",
       "1      21.7900  31.000000  437.333333  1000.000000       0.005009          1\n",
       "2      21.7675  31.122500  434.000000  1003.750000       0.005022          1\n",
       "3      21.7675  31.122500  439.000000  1009.500000       0.005022          1\n",
       "4      21.7900  31.133333  437.333333  1005.666667       0.005030          1"
      ]
     },
     "execution_count": 4,
     "metadata": {},
     "output_type": "execute_result"
    }
   ],
   "source": [
    "df.head()"
   ]
  },
  {
   "cell_type": "code",
   "execution_count": 5,
   "metadata": {},
   "outputs": [],
   "source": [
    "#activation functions and their derivatives\n",
    "def sigmoid(Z) : \n",
    "    return 1 / (1 + np.exp(-Z))\n",
    "\n",
    "def relu(Z) : \n",
    "    return np.maximum(0, Z)\n",
    "\n",
    "def d_sigmoid(Z) : \n",
    "    gZ = sigmoid(Z)\n",
    "    return gZ * (1 - gZ)\n",
    "\n",
    "def d_relu(Z) : \n",
    "    return np.where(Z > 0, 1, 0)\n",
    "\n",
    "def tanh(Z) : \n",
    "    return np.tanh(Z)\n",
    "    \n",
    "def d_tanh(Z) : \n",
    "    return 1 - tanh(Z) ** 2\n",
    "    \n",
    "def activate(Z, activation) :\n",
    "    if activation == 'relu' : return relu(Z)\n",
    "    elif activation == 'sigmoid' : return sigmoid(Z)\n",
    "    elif activation == 'tanh' : return tanh(Z)\n",
    "\n",
    "def d_activate(Z, activation) : \n",
    "    if activation == 'relu' : return d_relu(Z)\n",
    "    elif activation == 'sigmoid' : return d_sigmoid(Z)\n",
    "    elif activation == 'tanh' : return d_tanh(Z)"
   ]
  },
  {
   "cell_type": "code",
   "execution_count": 6,
   "metadata": {},
   "outputs": [],
   "source": [
    "#neural net\n",
    "np.random.seed(1)\n",
    "class neural_network :  \n",
    "    \n",
    "    #initialize parameters \n",
    "    def __init__(self, layers, X, Y) :\n",
    "        self.layers = layers\n",
    "        self.cache = {}\n",
    "        self.gradients = {}\n",
    "        self.parameters = {}\n",
    "        self.X = X\n",
    "        self.Y = np.array(Y).reshape(1, Y.shape[0])\n",
    "        layers[0] = (X.shape[0], None)\n",
    "        self.L = len(layers) - 1\n",
    "        \n",
    "        #He initialization of parameters\n",
    "        for i in range(1, len(layers) ) : \n",
    "            cur_layer = layers[i][0]\n",
    "            prev_layer = layers[i-1][0]\n",
    "            self.parameters['W' + str(i)] = rng.randn(cur_layer, prev_layer) * np.sqrt(2 / prev_layer)\n",
    "            self.parameters['b' + str(i)] = np.zeros((cur_layer, 1))\n",
    "            \n",
    "    \n",
    "    def forward_propagation(self) :   \n",
    "        Z = self.parameters['W1'].dot(self.X) + self.parameters['b1']\n",
    "        A = activate(Z, layers[1][1]) \n",
    "        self.cache['Z1'] = Z\n",
    "        self.cache['A1'] = A\n",
    "        for i in range(2, len(self.layers)) : \n",
    "            A_prev = A\n",
    "            Z = self.parameters['W' + str(i)].dot( A_prev ) + self.parameters['b' + str(i)]\n",
    "            A = activate(Z, layers[i][1]) \n",
    "            self.cache['Z' + str(i)] = Z\n",
    "            self.cache['A' + str(i)] = A\n",
    "\n",
    "    \n",
    "    def backward_propagation(self, lambd) :     \n",
    "        dA = 0\n",
    "        A = self.cache['A' + str(self.L)]\n",
    "        #initialize with binary cost\n",
    "        if self.layers[self.L][1] == 'sigmoid' : dA = -( np.divide(self.Y, A) - np.divide(1-self.Y, 1-A) )\n",
    "        for i in reversed(range(1, self.L + 1)) :\n",
    "            A_prev = np.array([])\n",
    "            m = self.X.shape[1]\n",
    "            if i == 1 : \n",
    "                A_prev = self.X\n",
    "            else : A_prev = self.cache['A' + str(i-1)]\n",
    "            #compute and store gradients \n",
    "            dZ = dA * d_activate(self.cache['Z' + str(i)], layers[i][1])\n",
    "            dA = np.dot(self.parameters['W' + str(i)].T, dZ)\n",
    "            \n",
    "            self.gradients['dW' + str(i)] = (1/m) * dZ.dot(A_prev.T) + (lambd/m)*self.parameters['W' + str(i)]\n",
    "            self.gradients['db' + str(i)] = (1/m) * np.sum(dZ, axis=1, keepdims=True)\n",
    "              \n",
    "    \n",
    "    def update_parameters(self, alpha) :\n",
    "        for i in range(1, self.L+1) : \n",
    "            self.parameters['W' + str(i)] = self.parameters['W' + str(i)] - alpha * self.gradients['dW' + str(i)]\n",
    "            self.parameters['b' + str(i)] = self.parameters['b' + str(i)] - alpha * self.gradients['db' + str(i)]\n",
    "    \n",
    "    \n",
    "    #binary cross-entropy with regularization\n",
    "    def cost(self, lambd) : \n",
    "        A = self.cache['A' + str(self.L)]\n",
    "        m = self.Y.shape[1]\n",
    "        regSum = 0\n",
    "        for i in range(1, len(self.layers) ) : \n",
    "            regSum += np.sum(np.square(self.parameters['W' + str(i)]))\n",
    "        \n",
    "        cost = - (1/m) * ( np.dot(self.Y, A.T) + np.dot(1 - self.Y, 1 - A.T)) + (lambd/(2*m)) * regSum\n",
    "        return np.squeeze(cost)\n",
    "    \n",
    "    \n",
    "    def train(self, alpha, iterations, lambd, show_cost = False) : \n",
    "        costs = []\n",
    "        for i in range(iterations) : \n",
    "            self.forward_propagation()\n",
    "            cost = self.cost(lambd)\n",
    "            costs.append(cost)\n",
    "            if show_cost == True and i%1000 == 0 : print(cost)\n",
    "            self.backward_propagation(lambd)\n",
    "            self.update_parameters(alpha)\n",
    "        \n",
    "        if show_cost == True : \n",
    "            plt.plot(np.arange(0,iterations), costs)\n",
    "            plt.xlabel('iterations')\n",
    "            plt.ylabel('cost')\n",
    "            plt.show()\n",
    "        \n",
    "        \n",
    "    def predict(self, X_test) : \n",
    "        Z = self.parameters['W1'].dot(X_test) + self.parameters['b1']\n",
    "        A = activate(Z, layers[1][1])  \n",
    "        for i in range(2, len(self.layers)) : \n",
    "            A_prev = A\n",
    "            Z = self.parameters['W' + str(i)].dot( A_prev ) + self.parameters['b' + str(i)]\n",
    "            A = activate(Z, layers[i][1]) \n",
    "        return np.where(A > .5, 1, 0) "
   ]
  },
  {
   "cell_type": "code",
   "execution_count": 7,
   "metadata": {
    "scrolled": false
   },
   "outputs": [
    {
     "name": "stdout",
     "output_type": "stream",
     "text": [
      "-0.28072561206909286\n",
      "-0.8524385070218102\n",
      "-0.8975366514912252\n",
      "-0.9114099312476923\n"
     ]
    },
    {
     "data": {
      "image/png": "[encoded data removed]",
      "text/plain": [
       "<Figure size 432x288 with 1 Axes>"
      ]
     },
     "metadata": {
      "needs_background": "light"
     },
     "output_type": "display_data"
    }
   ],
   "source": [
    "layers = {1: (5, 'relu'), 2: (10, 'relu'), 3: (1, 'sigmoid')}\n",
    "\n",
    "network = neural_network(layers, X_train, y_train)\n",
    "network.train(.05, 4000, 100, show_cost=True)\n"
   ]
  },
  {
   "cell_type": "code",
   "execution_count": 8,
   "metadata": {
    "scrolled": true
   },
   "outputs": [
    {
     "name": "stdout",
     "output_type": "stream",
     "text": [
      "validation accuracy with lambda =  0.05    \t:  0.9470919324577861\n",
      "validation accuracy with lambda =  1    \t:  0.9636022514071294\n",
      "validation accuracy with lambda =  2    \t:  0.9377110694183864\n",
      "validation accuracy with lambda =  3    \t:  0.9133208255159475\n",
      "validation accuracy with lambda =  4    \t:  0.9279549718574108\n",
      "validation accuracy with lambda =  5    \t:  0.9624765478424016\n"
     ]
    }
   ],
   "source": [
    "#search for lambda\n",
    "\n",
    "lambdas = [.0001, .001, .01, .1, 1, 10, 100]\n",
    "lambdas = [.05, 1, 2, 3, 4, 5]\n",
    "for lambd in lambdas : \n",
    "    network = neural_network(layers, X_train, y_train)\n",
    "    network.train(.05, 5000, lambd, show_cost=False)\n",
    "    y_hat = network.predict(X_valid)\n",
    "    y_hat = y_hat.reshape(y_valid.shape[0])\n",
    "    print('validation accuracy with lambda = ', lambd, '   \\t: ', accuracy_score(y_valid, y_hat))\n"
   ]
  },
  {
   "cell_type": "code",
   "execution_count": 9,
   "metadata": {},
   "outputs": [
    {
     "name": "stdout",
     "output_type": "stream",
     "text": [
      "test accuracy:  0.9875922887612797\n",
      "confusion matrix: \n",
      " [[7667   36]\n",
      " [  85 1964]]\n"
     ]
    }
   ],
   "source": [
    "network = neural_network(layers, X_train, y_train)\n",
    "network.train(.05, 5000, 1, show_cost=False)\n",
    "\n",
    "\n",
    "y_hat = network.predict(X_test)\n",
    "y_hat = y_hat.reshape(y_test.shape[0])\n",
    "print('test accuracy: ', accuracy_score(y_test, y_hat))\n",
    "    \n",
    "print('confusion matrix: \\n', confusion_matrix(y_test, y_hat))\n"
   ]
  }
 ],
 "metadata": {
  "kernelspec": {
   "display_name": "Python 3",
   "language": "python",
   "name": "python3"
  },
  "language_info": {
   "codemirror_mode": {
    "name": "ipython",
    "version": 3
   },
   "file_extension": ".py",
   "mimetype": "text/x-python",
   "name": "python",
   "nbconvert_exporter": "python",
   "pygments_lexer": "ipython3",
   "version": "3.7.1"
  }
 },
 "nbformat": 4,
 "nbformat_minor": 2
}
