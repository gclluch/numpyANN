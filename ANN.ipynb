{
 "cells": [
  {
   "cell_type": "code",
   "execution_count": 15,
   "metadata": {},
   "outputs": [],
   "source": [
    "#Handcrafted ANN\n",
    "\n",
    "import numpy as np\n",
    "import pandas as pd\n",
    "import matplotlib.pyplot as plt\n",
    "import seaborn as sns\n",
    "sns.set()\n",
    "\n",
    "from sklearn.model_selection import train_test_split\n",
    "from sklearn.metrics import accuracy_score\n",
    "from sklearn.metrics import confusion_matrix, classification_report\n",
    "\n",
    "np.random.seed(1)"
   ]
  },
  {
   "cell_type": "code",
   "execution_count": 16,
   "metadata": {
    "scrolled": true
   },
   "outputs": [
    {
     "name": "stdout",
     "output_type": "stream",
     "text": [
      "(1372,)\n"
     ]
    }
   ],
   "source": [
    "df = pd.read_csv('data_banknote_authentication.csv', names=['variance','skewness','curtosis','entropy','class'])\n",
    "X = np.array( df[['variance','skewness','curtosis','entropy']] )\n",
    "Y = df['class']\n",
    "\n",
    "X_train, X_test, y_train, y_test = train_test_split(X, Y, test_size=0.15, random_state=42)\n",
    "\n",
    "X_train = X_train.T\n",
    "X_test = X_test.T\n",
    "\n",
    "print(Y.shape)"
   ]
  },
  {
   "cell_type": "code",
   "execution_count": 17,
   "metadata": {},
   "outputs": [],
   "source": [
    "def sigmoid(Z) : \n",
    "    return 1 / (1 + np.exp(-Z))\n",
    "\n",
    "def relu(Z) : \n",
    "    return np.maximum(0, Z)\n",
    "\n",
    "def d_sigmoid(Z) : \n",
    "    gZ = sigmoid(Z)\n",
    "    return gZ * (1 - gZ)\n",
    "\n",
    "def d_relu(Z) : \n",
    "    return np.where(Z > 0, 1, 0)\n",
    "\n",
    "def tanh(Z) : \n",
    "    return np.tanh(Z)\n",
    "    \n",
    "def d_tanh(Z) : \n",
    "    return 1 - tanh(Z) ** 2\n",
    "    \n",
    "def activate(Z, activation) :\n",
    "    if activation == 'relu' : return relu(Z)\n",
    "    elif activation == 'sigmoid' : return sigmoid(Z)\n",
    "    elif activation == 'tanh' : return tanh(Z)\n",
    "\n",
    "def d_activate(Z, activation) : \n",
    "    if activation == 'relu' : return d_relu(Z)\n",
    "    elif activation == 'sigmoid' : return d_sigmoid(Z)\n",
    "    elif activation == 'tanh' : return d_tanh(Z)"
   ]
  },
  {
   "cell_type": "code",
   "execution_count": 18,
   "metadata": {},
   "outputs": [],
   "source": [
    "\n",
    "class neural_network :  \n",
    "    \n",
    "    #initialize parameters \n",
    "    def __init__(self, layers, X, Y) :\n",
    "        self.layers = layers\n",
    "        self.cache = {}\n",
    "        self.gradients = {}\n",
    "        self.parameters = {}\n",
    "        self.X = X\n",
    "        self.Y = np.array(Y).reshape(1, Y.shape[0])\n",
    "        \n",
    "        layers[0] = (X.shape[0], None)\n",
    "        self.L = len(layers) - 1\n",
    "        for i in range(1, len(layers) ) : \n",
    "            cur_layer = layers[i][0]\n",
    "            prev_layer = layers[i-1][0]\n",
    "            self.parameters['W' + str(i)] = np.random.randn(cur_layer, prev_layer) * .01\n",
    "            self.parameters['b' + str(i)] = np.zeros((cur_layer, 1))\n",
    "            \n",
    "    \n",
    "    def forward_propagation(self) :   \n",
    "        Z = self.parameters['W1'].dot(self.X) + self.parameters['b1']\n",
    "        A = activate(Z, layers[1][1]) \n",
    "        self.cache['Z1'] = Z\n",
    "        self.cache['A1'] = A\n",
    "        \n",
    "        for i in range(2, len(self.layers)) : \n",
    "            A_prev = A\n",
    "            Z = self.parameters['W' + str(i)].dot( A_prev ) + self.parameters['b' + str(i)]\n",
    "            A = activate(Z, layers[i][1]) \n",
    "            self.cache['Z' + str(i)] = Z\n",
    "            self.cache['A' + str(i)] = A\n",
    "\n",
    "\n",
    "    def cost(self) : \n",
    "        A = self.cache['A' + str(self.L)]\n",
    "        m = self.Y.shape[1]\n",
    "        cost = - (1/m) * ( np.dot(self.Y, A.T) + np.dot(1 - self.Y, 1 - A.T))\n",
    "        return np.squeeze(cost)\n",
    "\n",
    "    \n",
    "    def backward_propagation(self) :     \n",
    "        dA = 0\n",
    "        A = self.cache['A' + str(self.L)]  \n",
    "        if self.layers[self.L][1] == 'sigmoid' : dA = -( np.divide(self.Y, A) - np.divide(1-self.Y, 1-A) )\n",
    "        for i in reversed(range(1, self.L + 1)) :\n",
    "            A_prev = np.array([])\n",
    "            m = self.X.shape[1]\n",
    "            if i == 1 : \n",
    "                A_prev = self.X\n",
    "            else : A_prev = self.cache['A' + str(i-1)]\n",
    "                  \n",
    "            dZ = dA * d_activate(self.cache['Z' + str(i)], layers[i][1])\n",
    "            \n",
    "            dA = np.dot(self.parameters['W' + str(i)].T, dZ)\n",
    "            \n",
    "            self.gradients['dW' + str(i)] = (1/m) * dZ.dot(A_prev.T)\n",
    "            self.gradients['db' + str(i)] = (1/m) * np.sum(dZ, axis=1, keepdims=True)\n",
    "             \n",
    "                \n",
    "    def update_parameters(self, alpha) :\n",
    "        for i in range(1, self.L+1) : \n",
    "            self.parameters['W' + str(i)] = self.parameters['W' + str(i)] - alpha * self.gradients['dW' + str(i)]\n",
    "            self.parameters['b' + str(i)] = self.parameters['b' + str(i)] - alpha * self.gradients['db' + str(i)]\n",
    "    \n",
    "    \n",
    "    def train(self, alpha, iterations, show_cost = False) : \n",
    "        costs = []\n",
    "        for i in range(iterations) : \n",
    "            self.forward_propagation()\n",
    "            cost = self.cost()\n",
    "            costs.append(cost)\n",
    "            if show_cost == True and i%1000 == 0 : print(cost)\n",
    "            self.backward_propagation()\n",
    "            self.update_parameters(alpha)\n",
    "        plt.plot(np.arange(0,iterations), costs)\n",
    "        plt.xlabel('iterations')\n",
    "        plt.ylabel('cost')\n",
    "        plt.show()\n",
    "        \n",
    "    def predict(self, X_test) : \n",
    "        Z = self.parameters['W1'].dot(X_test) + self.parameters['b1']\n",
    "        A = activate(Z, layers[1][1])  \n",
    "        for i in range(2, len(self.layers)) : \n",
    "            A_prev = A\n",
    "            Z = self.parameters['W' + str(i)].dot( A_prev ) + self.parameters['b' + str(i)]\n",
    "            A = activate(Z, layers[i][1]) \n",
    "        return np.where(A > .5, 1, 0) "
   ]
  },
  {
   "cell_type": "code",
   "execution_count": 25,
   "metadata": {},
   "outputs": [
    {
     "name": "stdout",
     "output_type": "stream",
     "text": [
      "-0.500000249650308\n",
      "-0.5068176899445644\n",
      "-0.8565968640760235\n",
      "-0.9793938491373969\n",
      "-0.9916832775700365\n",
      "-0.9954675258884325\n"
     ]
    },
    {
     "data": {
      "image/png": "[encoded data removed]",
      "text/plain": [
       "<Figure size 432x288 with 1 Axes>"
      ]
     },
     "metadata": {},
     "output_type": "display_data"
    }
   ],
   "source": [
    "layers = {1: (4, 'relu'), 2: (4, 'relu'), 3: (1, 'sigmoid')}\n",
    "network = neural_network(layers, X_train, y_train)\n",
    "network.train(.05, 6000, show_cost=True)\n"
   ]
  },
  {
   "cell_type": "code",
   "execution_count": 26,
   "metadata": {},
   "outputs": [
    {
     "name": "stdout",
     "output_type": "stream",
     "text": [
      "train accuracy:  1.0\n",
      "test accuracy:  1.0\n",
      "confusion matrix: \n",
      " [[111   0]\n",
      " [  0  95]]\n"
     ]
    }
   ],
   "source": [
    "y_hat = network.predict(X_train)\n",
    "y_hat = y_hat.reshape(y_train.shape[0])\n",
    "print('train accuracy: ', accuracy_score(y_train, y_hat))\n",
    "\n",
    "y_hat = network.predict(X_test)\n",
    "y_hat = y_hat.reshape(y_test.shape[0])\n",
    "print('test accuracy: ', accuracy_score(y_test, y_hat))\n",
    "    \n",
    "print('confusion matrix: \\n', confusion_matrix(y_test, y_hat))\n"
   ]
  }
 ],
 "metadata": {
  "kernelspec": {
   "display_name": "Python 3",
   "language": "python",
   "name": "python3"
  },
  "language_info": {
   "codemirror_mode": {
    "name": "ipython",
    "version": 3
   },
   "file_extension": ".py",
   "mimetype": "text/x-python",
   "name": "python",
   "nbconvert_exporter": "python",
   "pygments_lexer": "ipython3",
   "version": "3.7.1"
  }
 },
 "nbformat": 4,
 "nbformat_minor": 2
}
